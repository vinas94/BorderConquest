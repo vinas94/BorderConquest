{
 "cells": [
  {
   "cell_type": "code",
   "execution_count": 1,
   "id": "twenty-minnesota",
   "metadata": {},
   "outputs": [],
   "source": [
    "import numpy as np"
   ]
  },
  {
   "cell_type": "code",
   "execution_count": 2,
   "id": "nuclear-emphasis",
   "metadata": {},
   "outputs": [],
   "source": [
    "def get_cc(grid):\n",
    "    '''\n",
    "    https://www.careercup.com/question?id=14948781\n",
    "    '''\n",
    "    \n",
    "    # First, convert the 1/0 grid into an adjacency grid represented by a map\n",
    "    graph = {}\n",
    "    for row in range(0, len(grid)): \n",
    "        for column in range(0, len(grid[0])):\n",
    "            key = (row, column)\n",
    "            graph[key] = []\n",
    "            if grid[row][column] == 1:\n",
    "                graph[key].append(key)\n",
    "            if column < len(grid[0]) - 1 and grid[row][column] == 1 and grid[row][column+1] == 1: \n",
    "                graph[key].append((row, column+1))\n",
    "            if column >= 1 and grid[row][column] == 1 and grid[row][column-1] == 1: \n",
    "                graph[key].append((row, column-1))\n",
    "            if row < len(grid) - 1 and grid[row][column] == 1 and grid[row+1][column] == 1: \n",
    "                graph[key].append((row+1, column))\n",
    "            if row >= 1 and grid[row][column] == 1 and grid[row-1][column] == 1: \n",
    "                graph[key].append((row-1, column))\n",
    "\n",
    "    # Counting the connected components \n",
    "    # Can also use BFS, too. \n",
    "    def dfs(visited, graph, node):\n",
    "        if node not in visited:\n",
    "            connected_components[counter].append(node)\n",
    "            visited.add(node)\n",
    "            for neighbour in graph[node]:\n",
    "                dfs(visited, graph, neighbour)\n",
    "\n",
    "    counter = 0\n",
    "    visited = set()\n",
    "    connected_components = []\n",
    "    for node in graph.keys(): \n",
    "        if node not in visited and len(graph[node]) > 0:\n",
    "            connected_components.append([])\n",
    "            dfs(visited, graph, node)\n",
    "            counter += 1\n",
    "\n",
    "    return connected_components"
   ]
  },
  {
   "cell_type": "code",
   "execution_count": 3,
   "id": "altered-brush",
   "metadata": {},
   "outputs": [
    {
     "data": {
      "text/plain": [
       "[[(0, 0), (0, 1)],\n",
       " [(0, 3)],\n",
       " [(0, 5), (1, 5), (2, 5), (3, 5)],\n",
       " [(1, 2), (2, 2), (2, 3), (2, 1), (3, 2)]]"
      ]
     },
     "execution_count": 3,
     "metadata": {},
     "output_type": "execute_result"
    }
   ],
   "source": [
    "# %%timeit\n",
    "\n",
    "matrix = [\n",
    "    [1, 1, 0, 1, 0, 1], \n",
    "    [0, 0, 1, 0, 0, 1], \n",
    "    [0, 1, 1, 1, 0, 1], \n",
    "    [0, 0, 1, 0, 0, 1], \n",
    "]\n",
    "\n",
    "get_cc(np.array(matrix))"
   ]
  },
  {
   "cell_type": "code",
   "execution_count": 4,
   "id": "qualified-princess",
   "metadata": {},
   "outputs": [
    {
     "name": "stdout",
     "output_type": "stream",
     "text": [
      "56.1 ms ± 4.34 ms per loop (mean ± std. dev. of 7 runs, 10 loops each)\n"
     ]
    }
   ],
   "source": [
    "%%timeit\n",
    "\n",
    "get_cc(np.random.rand(100,100).round())"
   ]
  },
  {
   "cell_type": "code",
   "execution_count": null,
   "id": "aggregate-phrase",
   "metadata": {},
   "outputs": [],
   "source": [
    "0 - empty\n",
    "1 - player 1\n",
    "2 - player 2\n",
    "7 - inactive border\n",
    "8 - active border\n",
    "9 - off grid"
   ]
  },
  {
   "cell_type": "code",
   "execution_count": 5,
   "id": "emerging-array",
   "metadata": {},
   "outputs": [
    {
     "data": {
      "text/plain": [
       "array([[0, 0, 0, 0, 0, 0, 0, 0, 0],\n",
       "       [0, 0, 0, 0, 0, 0, 0, 0, 0],\n",
       "       [0, 0, 0, 0, 0, 0, 0, 0, 0],\n",
       "       [0, 0, 0, 0, 0, 0, 0, 0, 0],\n",
       "       [0, 0, 0, 0, 0, 0, 0, 0, 0],\n",
       "       [0, 0, 0, 0, 0, 0, 0, 0, 0],\n",
       "       [0, 0, 0, 0, 0, 0, 0, 0, 0],\n",
       "       [0, 0, 0, 0, 0, 0, 0, 0, 0],\n",
       "       [0, 0, 0, 0, 0, 0, 0, 0, 0]])"
      ]
     },
     "execution_count": 5,
     "metadata": {},
     "output_type": "execute_result"
    }
   ],
   "source": [
    "rows = 5\n",
    "cols = 5 \n",
    "grid = np.zeros([rows*2-1, cols*2-1], dtype=int)\n",
    "grid"
   ]
  },
  {
   "cell_type": "code",
   "execution_count": 6,
   "id": "polar-burden",
   "metadata": {},
   "outputs": [
    {
     "data": {
      "text/plain": [
       "array([[0, 7, 0, 7, 0, 7, 0, 7, 0],\n",
       "       [7, 9, 7, 9, 7, 9, 7, 9, 7],\n",
       "       [0, 7, 0, 7, 0, 7, 0, 7, 0],\n",
       "       [7, 9, 7, 9, 7, 9, 7, 9, 7],\n",
       "       [0, 7, 0, 7, 0, 7, 0, 7, 0],\n",
       "       [7, 9, 7, 9, 7, 9, 7, 9, 7],\n",
       "       [0, 7, 0, 7, 0, 7, 0, 7, 0],\n",
       "       [7, 9, 7, 9, 7, 9, 7, 9, 7],\n",
       "       [0, 7, 0, 7, 0, 7, 0, 7, 0]])"
      ]
     },
     "execution_count": 6,
     "metadata": {},
     "output_type": "execute_result"
    }
   ],
   "source": [
    "grid[1::2,:] = 7\n",
    "grid[:,1::2] = 7\n",
    "grid[1::2,1::2] = 9\n",
    "grid"
   ]
  },
  {
   "cell_type": "code",
   "execution_count": 7,
   "id": "404f2840-3a21-404b-9c90-7e73a4ab70dd",
   "metadata": {},
   "outputs": [],
   "source": [
    "def get_cc0(grid):\n",
    "    '''\n",
    "    https://www.careercup.com/question?id=14948781\n",
    "    '''\n",
    "    \n",
    "    # First, convert the 1/0 grid into an adjacency grid represented by a map\n",
    "    graph = {}\n",
    "    for row in range(0, len(grid), 2): \n",
    "        for column in range(0, len(grid[0]), 2):\n",
    "            key = (row, column)\n",
    "            graph[key] = []\n",
    "            # adding the home key\n",
    "            if grid[row][column] == 0:\n",
    "                graph[key].append(key)\n",
    "            # (1) checking if within bounds (2) checking if empty (3) checking if no adjacent border (4) checking if adjacent square is empty\n",
    "            if column < len(grid[0]) - 1 and grid[row][column] == 0 and grid[row][column+1] == 7 and grid[row][column+2] == 0: \n",
    "                graph[key].append((row, column+2))\n",
    "            if column >= 1 and grid[row][column] == 0 and grid[row][column-1] == 7 and grid[row][column-2] == 0: \n",
    "                graph[key].append((row, column-2))\n",
    "            if row < len(grid) - 1 and grid[row][column] == 0 and grid[row+1][column] == 7 and grid[row+2][column] == 0: \n",
    "                graph[key].append((row+2, column))\n",
    "            if row >= 1 and grid[row][column] == 0 and grid[row-1][column] == 7 and grid[row-2][column] == 0: \n",
    "                graph[key].append((row-2, column))\n",
    "\n",
    "    # Counting the connected components \n",
    "    # Can also use BFS, too. \n",
    "    def dfs(visited, graph, node):\n",
    "        if node not in visited:\n",
    "            connected_components[counter].append(node)\n",
    "            visited.add(node)\n",
    "            for neighbour in graph[node]:\n",
    "                dfs(visited, graph, neighbour)\n",
    "\n",
    "    counter = 0\n",
    "    visited = set()\n",
    "    connected_components = []\n",
    "    for node in graph.keys(): \n",
    "        if node not in visited and len(graph[node]) > 0:\n",
    "            connected_components.append([])\n",
    "            dfs(visited, graph, node)\n",
    "            counter += 1\n",
    "\n",
    "    return connected_components"
   ]
  },
  {
   "cell_type": "code",
   "execution_count": 8,
   "id": "9831d82b-50a7-43bf-89a3-6aa34ead6f33",
   "metadata": {},
   "outputs": [
    {
     "data": {
      "text/plain": [
       "[[(0, 0),\n",
       "  (0, 2),\n",
       "  (0, 4),\n",
       "  (0, 6),\n",
       "  (0, 8),\n",
       "  (2, 8),\n",
       "  (2, 6),\n",
       "  (2, 4),\n",
       "  (2, 2),\n",
       "  (2, 0),\n",
       "  (4, 0),\n",
       "  (4, 2),\n",
       "  (4, 4),\n",
       "  (4, 6),\n",
       "  (4, 8),\n",
       "  (6, 8),\n",
       "  (6, 6),\n",
       "  (6, 4),\n",
       "  (6, 2),\n",
       "  (6, 0),\n",
       "  (8, 0),\n",
       "  (8, 2),\n",
       "  (8, 4),\n",
       "  (8, 6),\n",
       "  (8, 8)]]"
      ]
     },
     "execution_count": 8,
     "metadata": {},
     "output_type": "execute_result"
    }
   ],
   "source": [
    "get_cc0(grid)"
   ]
  },
  {
   "cell_type": "code",
   "execution_count": 9,
   "id": "a191e04f-9a93-4b82-96b1-1eebb166aa8c",
   "metadata": {},
   "outputs": [
    {
     "data": {
      "text/plain": [
       "array([[0, 7, 0, 8, 0, 7, 0, 7, 0],\n",
       "       [7, 9, 7, 8, 7, 9, 7, 9, 7],\n",
       "       [0, 7, 0, 8, 0, 7, 0, 7, 0],\n",
       "       [7, 9, 7, 8, 7, 9, 7, 9, 7],\n",
       "       [0, 7, 0, 8, 0, 7, 0, 7, 0],\n",
       "       [7, 9, 7, 8, 7, 9, 7, 9, 7],\n",
       "       [0, 7, 0, 8, 0, 7, 0, 7, 0],\n",
       "       [7, 9, 7, 8, 7, 9, 7, 9, 7],\n",
       "       [0, 7, 0, 8, 0, 7, 0, 7, 0]])"
      ]
     },
     "execution_count": 9,
     "metadata": {},
     "output_type": "execute_result"
    }
   ],
   "source": [
    "grid[:,3] = 8\n",
    "grid"
   ]
  },
  {
   "cell_type": "code",
   "execution_count": 10,
   "id": "f0c0ce61-4bc0-4dac-814b-9c8353d2566d",
   "metadata": {},
   "outputs": [
    {
     "data": {
      "text/plain": [
       "[[(0, 0),\n",
       "  (0, 2),\n",
       "  (2, 2),\n",
       "  (2, 0),\n",
       "  (4, 0),\n",
       "  (4, 2),\n",
       "  (6, 2),\n",
       "  (6, 0),\n",
       "  (8, 0),\n",
       "  (8, 2)],\n",
       " [(0, 4),\n",
       "  (0, 6),\n",
       "  (0, 8),\n",
       "  (2, 8),\n",
       "  (2, 6),\n",
       "  (2, 4),\n",
       "  (4, 4),\n",
       "  (4, 6),\n",
       "  (4, 8),\n",
       "  (6, 8),\n",
       "  (6, 6),\n",
       "  (6, 4),\n",
       "  (8, 4),\n",
       "  (8, 6),\n",
       "  (8, 8)]]"
      ]
     },
     "execution_count": 10,
     "metadata": {},
     "output_type": "execute_result"
    }
   ],
   "source": [
    "get_cc0(grid)"
   ]
  },
  {
   "cell_type": "code",
   "execution_count": 11,
   "id": "736f353d-38af-4be8-911d-1407ee1491bb",
   "metadata": {},
   "outputs": [],
   "source": [
    "rows = 6\n",
    "cols = 6\n",
    "grid = np.zeros([rows, cols], dtype=int)\n",
    "row_borders = np.ones([rows-1, cols], dtype=int)*7\n",
    "col_borders = np.ones([rows, cols-1], dtype=int)*8"
   ]
  },
  {
   "cell_type": "code",
   "execution_count": 12,
   "id": "130e079f-d9b9-48a4-95fd-43a81bcce207",
   "metadata": {},
   "outputs": [
    {
     "data": {
      "text/plain": [
       "array([[7, 7, 7, 7, 7, 7],\n",
       "       [7, 7, 7, 7, 7, 7],\n",
       "       [7, 7, 7, 7, 7, 7],\n",
       "       [7, 7, 7, 7, 7, 7],\n",
       "       [7, 7, 7, 7, 7, 7]])"
      ]
     },
     "execution_count": 12,
     "metadata": {},
     "output_type": "execute_result"
    }
   ],
   "source": [
    "row_borders"
   ]
  },
  {
   "cell_type": "code",
   "execution_count": 13,
   "id": "a8e9689e-ffdf-4184-8608-e93daf4085f4",
   "metadata": {},
   "outputs": [
    {
     "data": {
      "text/plain": [
       "array([[8, 8, 8, 8, 8],\n",
       "       [8, 8, 8, 8, 8],\n",
       "       [8, 8, 8, 8, 8],\n",
       "       [8, 8, 8, 8, 8],\n",
       "       [8, 8, 8, 8, 8],\n",
       "       [8, 8, 8, 8, 8]])"
      ]
     },
     "execution_count": 13,
     "metadata": {},
     "output_type": "execute_result"
    }
   ],
   "source": [
    "col_borders"
   ]
  },
  {
   "cell_type": "code",
   "execution_count": 14,
   "id": "56155505-587d-47b6-b61a-bec34d64dd4e",
   "metadata": {},
   "outputs": [
    {
     "data": {
      "text/plain": [
       "array([[0, 8, 0, 8, 0, 8, 0, 8, 0, 8, 0],\n",
       "       [7, 9, 7, 9, 7, 9, 7, 9, 7, 9, 7],\n",
       "       [0, 8, 0, 8, 0, 8, 0, 8, 0, 8, 0],\n",
       "       [7, 9, 7, 9, 7, 9, 7, 9, 7, 9, 7],\n",
       "       [0, 8, 0, 8, 0, 8, 0, 8, 0, 8, 0],\n",
       "       [7, 9, 7, 9, 7, 9, 7, 9, 7, 9, 7],\n",
       "       [0, 8, 0, 8, 0, 8, 0, 8, 0, 8, 0],\n",
       "       [7, 9, 7, 9, 7, 9, 7, 9, 7, 9, 7],\n",
       "       [0, 8, 0, 8, 0, 8, 0, 8, 0, 8, 0],\n",
       "       [7, 9, 7, 9, 7, 9, 7, 9, 7, 9, 7],\n",
       "       [0, 8, 0, 8, 0, 8, 0, 8, 0, 8, 0]])"
      ]
     },
     "execution_count": 14,
     "metadata": {},
     "output_type": "execute_result"
    }
   ],
   "source": [
    "out = np.zeros([grid.shape[0]*2-1, grid.shape[1]], dtype=int)\n",
    "out[0::2,:] = grid\n",
    "out[1::2,:] = row_borders\n",
    "\n",
    "\n",
    "out2 = np.zeros([out.shape[0], out.shape[1]*2-1], dtype=int)\n",
    "out2[:,0::2] = out\n",
    "out2[0::2,1::2] = col_borders\n",
    "\n",
    "out2[1::2,1::2] = 9\n",
    "\n",
    "out2"
   ]
  },
  {
   "cell_type": "code",
   "execution_count": 15,
   "id": "cc291915-28c5-49f0-a873-6ce2d05691ab",
   "metadata": {},
   "outputs": [],
   "source": [
    "def merge(grid, rows, cols):\n",
    "    # inserting rows\n",
    "    out1 = np.zeros([grid.shape[0]*2-1, grid.shape[1]], dtype=int)\n",
    "    out1[0::2,:] = grid\n",
    "    out1[1::2,:] = rows\n",
    "\n",
    "    # inserting columns\n",
    "    out2 = np.zeros([out1.shape[0], out1.shape[1]*2-1], dtype=int)\n",
    "    out2[:,0::2] = out1\n",
    "    out2[0::2,1::2] = cols\n",
    "\n",
    "    # overwritting corners\n",
    "    out2[1::2,1::2] = 9\n",
    "    return out2"
   ]
  },
  {
   "cell_type": "code",
   "execution_count": 16,
   "id": "74850d8c-e4c5-43e2-a38b-e4d6f35e3807",
   "metadata": {},
   "outputs": [
    {
     "data": {
      "text/plain": [
       "array([[0, 8, 0, 8, 0, 8, 0, 8, 0, 8, 0],\n",
       "       [7, 9, 7, 9, 7, 9, 7, 9, 7, 9, 7],\n",
       "       [0, 8, 0, 8, 0, 8, 0, 8, 0, 8, 0],\n",
       "       [7, 9, 7, 9, 7, 9, 7, 9, 7, 9, 7],\n",
       "       [0, 8, 0, 8, 0, 8, 0, 8, 0, 8, 0],\n",
       "       [7, 9, 7, 9, 7, 9, 7, 9, 7, 9, 7],\n",
       "       [0, 8, 0, 8, 0, 8, 0, 8, 0, 8, 0],\n",
       "       [7, 9, 7, 9, 7, 9, 7, 9, 7, 9, 7],\n",
       "       [0, 8, 0, 8, 0, 8, 0, 8, 0, 8, 0],\n",
       "       [7, 9, 7, 9, 7, 9, 7, 9, 7, 9, 7],\n",
       "       [0, 8, 0, 8, 0, 8, 0, 8, 0, 8, 0]])"
      ]
     },
     "execution_count": 16,
     "metadata": {},
     "output_type": "execute_result"
    }
   ],
   "source": [
    "grid_merged = merge(grid, row_borders, col_borders)\n",
    "grid_merged"
   ]
  },
  {
   "cell_type": "code",
   "execution_count": 17,
   "id": "b2da862d-1fc6-4180-889f-bb232ad1b080",
   "metadata": {},
   "outputs": [
    {
     "data": {
      "text/plain": [
       "[[(0, 0), (2, 0), (4, 0), (6, 0), (8, 0), (10, 0)],\n",
       " [(0, 2), (2, 2), (4, 2), (6, 2), (8, 2), (10, 2)],\n",
       " [(0, 4), (2, 4), (4, 4), (6, 4), (8, 4), (10, 4)],\n",
       " [(0, 6), (2, 6), (4, 6), (6, 6), (8, 6), (10, 6)],\n",
       " [(0, 8), (2, 8), (4, 8), (6, 8), (8, 8), (10, 8)],\n",
       " [(0, 10), (2, 10), (4, 10), (6, 10), (8, 10), (10, 10)]]"
      ]
     },
     "execution_count": 17,
     "metadata": {},
     "output_type": "execute_result"
    }
   ],
   "source": [
    "get_cc0(grid_merged)"
   ]
  },
  {
   "cell_type": "code",
   "execution_count": 18,
   "id": "5a1c4bda-ce24-4074-a816-143985a8b7b6",
   "metadata": {},
   "outputs": [
    {
     "data": {
      "text/plain": [
       "array([[8, 8, 8, 8, 8],\n",
       "       [8, 8, 8, 8, 8],\n",
       "       [8, 8, 8, 8, 8],\n",
       "       [8, 8, 8, 8, 8],\n",
       "       [8, 8, 8, 8, 8],\n",
       "       [8, 8, 8, 8, 8]])"
      ]
     },
     "execution_count": 18,
     "metadata": {},
     "output_type": "execute_result"
    }
   ],
   "source": [
    "grid_merged[0::2,1::2]"
   ]
  },
  {
   "cell_type": "code",
   "execution_count": 19,
   "id": "e5fc5455-0350-4318-adf5-d80c7e2580ef",
   "metadata": {},
   "outputs": [],
   "source": [
    "def split(grid):\n",
    "    return grid_merged[0::2,0::2], grid_merged[1::2,0::2], grid_merged[0::2,1::2]"
   ]
  },
  {
   "cell_type": "code",
   "execution_count": 20,
   "id": "5fa226d9-9e01-4bc5-9825-9f4d8d5d80ec",
   "metadata": {},
   "outputs": [
    {
     "data": {
      "text/plain": [
       "(array([[0, 0, 0, 0, 0, 0],\n",
       "        [0, 0, 0, 0, 0, 0],\n",
       "        [0, 0, 0, 0, 0, 0],\n",
       "        [0, 0, 0, 0, 0, 0],\n",
       "        [0, 0, 0, 0, 0, 0],\n",
       "        [0, 0, 0, 0, 0, 0]]),\n",
       " array([[7, 7, 7, 7, 7, 7],\n",
       "        [7, 7, 7, 7, 7, 7],\n",
       "        [7, 7, 7, 7, 7, 7],\n",
       "        [7, 7, 7, 7, 7, 7],\n",
       "        [7, 7, 7, 7, 7, 7]]),\n",
       " array([[8, 8, 8, 8, 8],\n",
       "        [8, 8, 8, 8, 8],\n",
       "        [8, 8, 8, 8, 8],\n",
       "        [8, 8, 8, 8, 8],\n",
       "        [8, 8, 8, 8, 8],\n",
       "        [8, 8, 8, 8, 8]]))"
      ]
     },
     "execution_count": 20,
     "metadata": {},
     "output_type": "execute_result"
    }
   ],
   "source": [
    "split(grid_merged)"
   ]
  },
  {
   "cell_type": "code",
   "execution_count": null,
   "id": "2b5b3069-5555-409a-a4e5-972282356445",
   "metadata": {},
   "outputs": [],
   "source": []
  },
  {
   "cell_type": "code",
   "execution_count": null,
   "id": "e4f5bf72-971b-4867-9730-a86a92abe607",
   "metadata": {},
   "outputs": [],
   "source": []
  }
 ],
 "metadata": {
  "kernelspec": {
   "display_name": "Python 3",
   "language": "python",
   "name": "python3"
  },
  "language_info": {
   "codemirror_mode": {
    "name": "ipython",
    "version": 3
   },
   "file_extension": ".py",
   "mimetype": "text/x-python",
   "name": "python",
   "nbconvert_exporter": "python",
   "pygments_lexer": "ipython3",
   "version": "3.8.10"
  }
 },
 "nbformat": 4,
 "nbformat_minor": 5
}
